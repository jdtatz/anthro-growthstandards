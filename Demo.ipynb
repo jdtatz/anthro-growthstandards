{
 "cells": [
  {
   "cell_type": "code",
   "execution_count": null,
   "metadata": {},
   "outputs": [],
   "source": [
    "%pip install -Uq matplotlib-label-lines"
   ]
  },
  {
   "cell_type": "code",
   "execution_count": null,
   "metadata": {},
   "outputs": [],
   "source": [
    "import numpy as np\n",
    "import xarray as xr\n",
    "import scipy.stats as stats\n",
    "import matplotlib.pyplot as plt"
   ]
  },
  {
   "cell_type": "code",
   "execution_count": null,
   "metadata": {},
   "outputs": [],
   "source": [
    "import xarray_einstats.stats as xr_stats"
   ]
  },
  {
   "cell_type": "code",
   "execution_count": null,
   "metadata": {},
   "outputs": [],
   "source": [
    "from growthstandards import rv_coords, GrowthStandards, XrCompoundRV\n",
    "from growthstandards.bcs_ext.scipy_ext import BCCG, BCPE"
   ]
  },
  {
   "cell_type": "code",
   "execution_count": null,
   "metadata": {},
   "outputs": [],
   "source": [
    "def coord_da(vs, name, attrs={}):\n",
    "    return xr.DataArray(vs, dims=name).assign_attrs(attrs).assign_coords({name: lambda da: da})"
   ]
  },
  {
   "cell_type": "code",
   "execution_count": null,
   "metadata": {},
   "outputs": [],
   "source": [
    "from scipy.special import ndtr, log_ndtr, ndtri, ndtri_exp\n",
    "\n",
    "# TODO: use a masked lazy where\n",
    "\n",
    "def calc_z_score(rv: xr_stats.XrRV, v: float | xr.DataArray, log: bool=False, apply_kwargs=None) -> xr.DataArray:\n",
    "    coords = rv.coords\n",
    "    attrs = getattr(rv, \"attrs\", {})\n",
    "    if log:\n",
    "        da = xr.where(v >= rv.median(), -ndtri_exp(rv.logsf(v, apply_kwargs=apply_kwargs)), ndtri_exp(rv.logcdf(v, apply_kwargs=apply_kwargs)))\n",
    "    else:\n",
    "        da = xr.where(v >= rv.median(), -ndtri(rv.sf(v, apply_kwargs=apply_kwargs)), ndtri(rv.cdf(v, apply_kwargs=apply_kwargs)))\n",
    "    return da.assign_attrs(attrs).assign_coords(coords.variables)\n",
    "\n",
    "\n",
    "def invert_z_score(rv: xr_stats.XrRV, z: float | xr.DataArray, log: bool=False, apply_kwargs=None) -> xr.DataArray:\n",
    "    coords = rv.coords\n",
    "    attrs = getattr(rv, \"attrs\", {})\n",
    "    if log:\n",
    "        da = xr.where(z >= 0, rv.isf_exp(log_ndtr(-z), apply_kwargs=apply_kwargs), rv.ppf_exp(log_ndtr(z), apply_kwargs=apply_kwargs))\n",
    "    else:\n",
    "        da = xr.where(z >= 0, rv.isf(ndtr(-z), apply_kwargs=apply_kwargs), rv.ppf(ndtr(z), apply_kwargs=apply_kwargs))\n",
    "    return da.assign_attrs(attrs).assign_coords(coords.variables)"
   ]
  },
  {
   "cell_type": "code",
   "execution_count": null,
   "metadata": {},
   "outputs": [],
   "source": [
    "list(GrowthStandards.keys())"
   ]
  },
  {
   "cell_type": "code",
   "execution_count": null,
   "metadata": {},
   "outputs": [],
   "source": [
    "len_rv = GrowthStandards[\"length\"]\n",
    "hei_rv = GrowthStandards[\"height\"]\n",
    "gfl_rv = GrowthStandards[\"gfl\"]\n",
    "gfh_rv = GrowthStandards[\"gfh\"]\n",
    "\n",
    "growth_len_rv = XrCompoundRV(gfl_rv, len_rv, \"length\")\n",
    "growth_hei_rv = XrCompoundRV(gfh_rv, hei_rv, \"height\")"
   ]
  },
  {
   "cell_type": "code",
   "execution_count": null,
   "metadata": {},
   "outputs": [],
   "source": [
    "z_da = coord_da([-3, -2, -1, 0, 1, 2, 3], \"z\")\n",
    "\n",
    "inverted_z_scores = [\n",
    "    invert_z_score(GrowthStandards[k], z_da, apply_kwargs={\"keep_attrs\": True})\n",
    "    for k in (\"weight\", \"len_hei\", \"wfl\", \"wfh\")\n",
    "] + [\n",
    "    xr.combine_by_coords([\n",
    "        invert_z_score(growth_len_rv, z_da, apply_kwargs={\"keep_attrs\": True}),\n",
    "        invert_z_score(growth_hei_rv, z_da, apply_kwargs={\"keep_attrs\": True}),\n",
    "    ], combine_attrs=\"drop_conflicts\"\n",
    "    ).assign_attrs(long_name=\"Growth Metric\")\n",
    "]\n",
    "# inverted_z_scores"
   ]
  },
  {
   "cell_type": "code",
   "execution_count": null,
   "metadata": {},
   "outputs": [],
   "source": [
    "from labellines import labelLines as label_lines"
   ]
  },
  {
   "cell_type": "code",
   "execution_count": null,
   "metadata": {},
   "outputs": [],
   "source": [
    "# z_c_map = {0: \"C0\", 2: \"C1\", 3: \"C2\"}\n",
    "z_c_map = {i: f\"C{i}\" for i in range(4)}\n",
    "\n",
    "n = len(inverted_z_scores)\n",
    "fig, axs = plt.subplots(n, 2, figsize=(16, 6 * n), layout=\"constrained\")\n",
    "for raxs, da in zip(axs, inverted_z_scores):\n",
    "    da = da.drop_vars(\"sex_enum\")\n",
    "    for i, ax in enumerate(raxs):\n",
    "        lines = []\n",
    "        for z in z_da:\n",
    "            c = z_c_map[abs(int(z))]\n",
    "            _lines = da.isel(sex=i).sel(z=z).plot.line(ax=ax, c=c, label=f\"{int(z)}\")\n",
    "            lines.extend(_lines)\n",
    "        label_lines(lines, fontsize=16)\n",
    "        ax.autoscale(enable=True, axis=\"x\", tight=True)\n",
    "        name = da.attrs.get(\"long_name\", da.name)\n",
    "        s = da.isel(sex=i)[\"sex\"].item()\n",
    "        ax.set_title(f\"{name} ({s})\")"
   ]
  }
 ],
 "metadata": {
  "kernelspec": {
   "display_name": ".venv",
   "language": "python",
   "name": "python3"
  },
  "language_info": {
   "codemirror_mode": {
    "name": "ipython",
    "version": 3
   },
   "file_extension": ".py",
   "mimetype": "text/x-python",
   "name": "python",
   "nbconvert_exporter": "python",
   "pygments_lexer": "ipython3",
   "version": "3.11.3"
  },
  "orig_nbformat": 4
 },
 "nbformat": 4,
 "nbformat_minor": 2
}
