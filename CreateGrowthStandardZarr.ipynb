{
 "cells": [
  {
   "cell_type": "code",
   "execution_count": null,
   "id": "6242923e-6d0c-457a-8aa1-d4b9cd3d1c6a",
   "metadata": {},
   "outputs": [],
   "source": [
    "import numpy as np\n",
    "import zarr\n",
    "import xarray as xr"
   ]
  },
  {
   "cell_type": "code",
   "execution_count": null,
   "id": "75b597ab",
   "metadata": {},
   "outputs": [],
   "source": [
    "from IPython.display import Markdown, display"
   ]
  },
  {
   "cell_type": "code",
   "execution_count": null,
   "id": "c1a7d079-a2e3-4e6b-a4c0-ee05e3cd169b",
   "metadata": {},
   "outputs": [],
   "source": [
    "import rpy2\n",
    "import rpy2.rinterface as ri\n",
    "import rpy2.robjects as ro\n",
    "import rpy2.robjects.packages as rpackages\n",
    "from rpy2.robjects import numpy2ri\n",
    "from rpy2.robjects import pandas2ri\n",
    "numpy2ri.activate()\n",
    "pandas2ri.activate()"
   ]
  },
  {
   "cell_type": "code",
   "execution_count": null,
   "id": "87cee358-3cd4-4ef7-8472-3b85eb47f0ad",
   "metadata": {},
   "outputs": [],
   "source": [
    "from pathlib import Path\n",
    "from os import environ\n",
    "\n",
    "if \"R_LIBS\" not in environ:\n",
    "    environ[\"R_LIBS\"] = str(Path.home() / \"R\")"
   ]
  },
  {
   "cell_type": "code",
   "execution_count": null,
   "id": "c4944511-29cc-48c9-a4be-232711c4fc4d",
   "metadata": {},
   "outputs": [],
   "source": [
    "utils = rpackages.importr('utils')\n",
    "# select a mirror for R packages\n",
    "utils.chooseCRANmirror(ind=1) # select the first mirror in the list\n",
    "if not rpackages.isinstalled('anthro'):\n",
    "    utils.install_packages('anthro')\n",
    "anthro = rpackages.importr('anthro')"
   ]
  },
  {
   "cell_type": "code",
   "execution_count": null,
   "id": "58953ab1-b246-43db-9580-405f69afddd6",
   "metadata": {
    "scrolled": true
   },
   "outputs": [],
   "source": [
    "growthstandards = {\n",
    "    n.removeprefix(\"growthstandards_\").removesuffix(\"anthro\"):\n",
    "    ro.conversion.rpy2py(getattr(anthro, n)) \n",
    "    for n in dir(anthro) if n.startswith(\"growthstandards_\")\n",
    "}\n",
    "growthstandards"
   ]
  },
  {
   "cell_type": "code",
   "execution_count": null,
   "id": "a6a86e4b-b1f1-4378-890c-0ba1aa235850",
   "metadata": {},
   "outputs": [],
   "source": [
    "df = growthstandards[\"bmi\"]\n",
    "df[\"loh\"] = df[\"loh\"].astype(\"category\")\n",
    "df"
   ]
  },
  {
   "cell_type": "code",
   "execution_count": null,
   "id": "2b0fc097-001e-4dd5-adef-b8d4221f86f9",
   "metadata": {},
   "outputs": [],
   "source": [
    "coord_attr_map = dict(\n",
    "    age=dict(long_name=\"Age\", units=\"days\"),\n",
    "    length=dict(long_name=\"Recumbent Length\", units=\"cm\"),\n",
    "    height=dict(long_name=\"Standing Height\", units=\"cm\"),\n",
    "    # lorh=dict(long_name=\"Parameterized by Recumbent Length or Standing Height\"),\n",
    ")"
   ]
  },
  {
   "cell_type": "code",
   "execution_count": null,
   "id": "fd578542-c51f-4d95-a207-c0f811b04d8a",
   "metadata": {},
   "outputs": [],
   "source": [
    "var_attr_map = dict(\n",
    "    ac=dict(name=\"arm_c\", long_name=\"Arm Circumference\", units=\"cm\"),\n",
    "    hc=dict(name=\"head_c\", long_name=\"Head Circumference\", units=\"cm\"),\n",
    "    bmi=dict(name=\"bmi\", long_name=\"Body Mass Index\", units=\"kg/m^2\"),\n",
    "    len=dict(name=\"len_hi\", units=\"cm\"),\n",
    "    ss=dict(name=\"ss\", long_name=\"Subscapular Skinfold\", units=\"mm\"),\n",
    "    ts=dict(name=\"ts\", long_name=\"Triceps Skinfold\", units=\"mm\"),\n",
    "    wei=dict(name=\"weight\", long_name=\"Weight\", units=\"kg\"),\n",
    "    wfl=dict(name=\"wfl\", long_name=\"Weight for Recumbent Length\", units=\"kg\"),\n",
    "    wfh=dict(name=\"wfh\", long_name=\"Weight for Standing Height\", units=\"kg\"),\n",
    ")"
   ]
  },
  {
   "cell_type": "code",
   "execution_count": null,
   "id": "ca2bebed-5caa-4a57-9d5c-54d926719ef5",
   "metadata": {
    "scrolled": true
   },
   "outputs": [],
   "source": [
    "def _fixup_gen():\n",
    "    for k, gdf in growthstandards.items():\n",
    "        gds = gdf.set_index([\"sex\", gdf.columns[1]]).to_xarray()\n",
    "        attr_map = var_attr_map[k].copy()\n",
    "        name = attr_map.pop(\"name\", k)\n",
    "        gds = gds.assign_attrs(**attr_map)\n",
    "        for c in gds.coords:\n",
    "            if c in coord_attr_map:\n",
    "                gds.coords[c].attrs.update(coord_attr_map[c])\n",
    "        if \"sex\" in gds.coords:\n",
    "            # gds = gds.reset_index(\"sex\").rename_vars({\"sex\": \"sex_enum\"}).assign_coords(\n",
    "            #     sex=lambda ds: [{1: \"Male\", 2: \"Female\"}[s.item()] for s in ds.sex_enum])\n",
    "            gds = gds.assign_coords(sex=lambda ds: [{1: \"Male\", 2: \"Female\"}[s.item()] for s in ds.sex])\n",
    "        if \"loh\" in gds.keys():\n",
    "            gds = gds.rename_vars({\"loh\": \"lorh\"})\n",
    "        if \"lorh\" in gds.keys():\n",
    "            gds = gds.set_coords(\"lorh\")\n",
    "            if k in (\"wfl\", \"wfh\"):\n",
    "                yield name, gds.drop(\"lorh\")\n",
    "            elif k == \"len\":\n",
    "                yield \"length\", gds.where(lambda ds: ds.lorh == \"L\", drop=True).drop(\"lorh\").assign_attrs(long_name=\"Recumbent Length\")\n",
    "                yield \"height\", gds.where(lambda ds: ds.lorh == \"H\", drop=True).drop(\"lorh\").assign_attrs(long_name=\"Standing Height\")\n",
    "            elif k == \"bmi\":\n",
    "                yield \"bmi_length\", gds.where(lambda ds: ds.lorh == \"L\", drop=True).drop(\"lorh\").assign_attrs(long_name=\"Body Mass Index (Recumbent Length)\")\n",
    "                yield \"bmi_height\", gds.where(lambda ds: ds.lorh == \"H\", drop=True).drop(\"lorh\").assign_attrs(long_name=\"Body Mass Index (Standing Height)\")\n",
    "            else:\n",
    "                raise NotImplementedError(k, gds)\n",
    "        else:\n",
    "            yield name, gds\n",
    "\n",
    "growthstandards_dss = dict(_fixup_gen())\n",
    "for name, gds in growthstandards_dss.items():\n",
    "    _long_name = gds.attrs.get(\"long_name\", \"\")\n",
    "    display(Markdown(f\"#### {name}  [\\\"{_long_name}\\\"]\"), gds)"
   ]
  },
  {
   "cell_type": "code",
   "execution_count": null,
   "id": "0ad8352d-d54d-4403-b8d6-9909187a3c45",
   "metadata": {},
   "outputs": [],
   "source": [
    "with zarr.DirectoryStore(\"growthstandards/growthstandards.zarr\") as store:\n",
    "    for name, gds in growthstandards_dss.items():\n",
    "        gds.to_zarr(store, group=name, mode=\"w\")"
   ]
  },
  {
   "cell_type": "code",
   "execution_count": null,
   "id": "d316b555-ec37-4c16-a0f6-c8c1c54860e4",
   "metadata": {},
   "outputs": [],
   "source": [
    "if not rpackages.isinstalled('gamlss'):\n",
    "    utils.install_packages('gamlss')"
   ]
  },
  {
   "cell_type": "code",
   "execution_count": null,
   "id": "f24fc826-2e45-49c1-99ef-4b193d021e5e",
   "metadata": {},
   "outputs": [],
   "source": [
    "ro.r(\"\"\"\n",
    "library(gamlss)\n",
    "\n",
    "load(\"Brain-Growth/Brain_Volume/Female_Brain_Tissue.Rdata\") #female gamlss model \n",
    "load(\"Brain-Growth/Brain_Volume/Male_Brain_Tissue.Rdata\")  #male gamlss model \n",
    "load(\"Brain-Growth/Brain_Volume/Master_Data_Female.Rdata\") #female normal data \n",
    "load(\"Brain-Growth/Brain_Volume/Master_Data_Male.Rdata\")  #male normal data \n",
    "load(\"Brain-Growth/shinyappBV/data/csfF.Rdata\")  #female normal data \n",
    "load(\"Brain-Growth/shinyappBV/data/csfM.Rdata\")  #male normal data \n",
    "# load(\"Brain-Growth/shinyappBV/data/ratioF.Rdata\")  #female normal data \n",
    "# load(\"Brain-Growth/shinyappBV/data/ratioM.Rdata\")  #male normal data\n",
    "\n",
    "ls()\n",
    "\n",
    "cent<-c(3, 15, 50, 85, 97)\n",
    "idff<-factor(c(1,2))\n",
    "idmm<-factor(c(1,2))\n",
    "\n",
    "gamlssToDf<-function(obj) {\n",
    "    xvar<-all.vars(obj$call$formula)[[2]]\n",
    "    DaTa <- eval(obj$call[[\"data\"]])\n",
    "    xvar <- get(xvar, envir=as.environment(DaTa))\n",
    "    df<-predictAll(obj, output=\"data.frame\")\n",
    "    df$x = xvar\n",
    "    df\n",
    "}\n",
    "\n",
    "csfFF<-gamlssToDf(csfFF)\n",
    "csfMM<-gamlssToDf(csfMM)\n",
    "tissFF<-gamlssToDf(tissFF)\n",
    "tissMM<-gamlssToDf(tissMM)\n",
    "# ratioF<-gamlssToDf(ratioF)\n",
    "# ratioM<-gamlssToDf(ratioM)\n",
    "\"\"\")"
   ]
  },
  {
   "cell_type": "code",
   "execution_count": null,
   "id": "214d01b5-9bff-4324-be37-fbbeb0e18f0e",
   "metadata": {},
   "outputs": [],
   "source": [
    "def read_gamlss(name):\n",
    "    df = ro.conversion.rpy2py(ro.r[name])\n",
    "    return df.set_index(\"x\").to_xarray().rename(x=\"age\").drop_vars(\"y\").sortby(\"age\")"
   ]
  },
  {
   "cell_type": "code",
   "execution_count": null,
   "id": "e5315731-cfd6-4799-a30f-17b1d6e6ea90",
   "metadata": {},
   "outputs": [],
   "source": [
    "# Safe to drop duplicates, coefficants with duplicate indexes are \"equal\" (np.allclose)\n",
    "tissue_ds = xr.concat([\n",
    "    read_gamlss(\"tissMM\").expand_dims(dim=\"sex\").assign_coords(sex=[\"Male\"]).drop_duplicates(\"age\"),\n",
    "    read_gamlss(\"tissFF\").expand_dims(dim=\"sex\").assign_coords(sex=[\"Female\"]).drop_duplicates(\"age\"),\n",
    "], dim=\"sex\").assign_attrs(long_name=\"Brain Tissue\", units=\"cm^3\")\n",
    "tissue_ds.coords[\"age\"].attrs.update(coord_attr_map[\"age\"])\n",
    "display(tissue_ds)\n",
    "csf_ds = xr.concat([\n",
    "    read_gamlss(\"csfMM\").expand_dims(dim=\"sex\").assign_coords(sex=[\"Male\"]).drop_duplicates(\"age\"),\n",
    "    read_gamlss(\"csfFF\").expand_dims(dim=\"sex\").assign_coords(sex=[\"Female\"]).drop_duplicates(\"age\"),\n",
    "], dim=\"sex\").assign_attrs(long_name=\"CSF Volume\", units=\"cm^3\")\n",
    "csf_ds.coords[\"age\"].attrs.update(coord_attr_map[\"age\"])\n",
    "csf_ds"
   ]
  },
  {
   "cell_type": "code",
   "execution_count": null,
   "id": "c555817d-e0fa-4e29-8f8f-3861ef5ec14c",
   "metadata": {},
   "outputs": [],
   "source": [
    "with zarr.DirectoryStore(\"growthstandards/growthstandards.zarr\") as store:\n",
    "    tissue_ds.to_zarr(store, group=\"brain\", mode=\"w\")\n",
    "    csf_ds.to_zarr(store, group=\"csf\", mode=\"w\")"
   ]
  }
 ],
 "metadata": {
  "kernelspec": {
   "display_name": "Python 3",
   "language": "python",
   "name": "python3"
  },
  "language_info": {
   "codemirror_mode": {
    "name": "ipython",
    "version": 3
   },
   "file_extension": ".py",
   "mimetype": "text/x-python",
   "name": "python",
   "nbconvert_exporter": "python",
   "pygments_lexer": "ipython3",
   "version": "3.10.6"
  }
 },
 "nbformat": 4,
 "nbformat_minor": 5
}
