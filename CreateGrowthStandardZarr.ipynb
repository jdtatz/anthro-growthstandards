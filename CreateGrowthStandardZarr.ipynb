{
 "cells": [
  {
   "cell_type": "code",
   "execution_count": null,
   "id": "6242923e-6d0c-457a-8aa1-d4b9cd3d1c6a",
   "metadata": {},
   "outputs": [],
   "source": [
    "from pathlib import Path\n",
    "\n",
    "import zarr\n",
    "import xarray as xr"
   ]
  },
  {
   "cell_type": "code",
   "execution_count": null,
   "id": "75b597ab",
   "metadata": {},
   "outputs": [],
   "source": [
    "from IPython.display import Markdown, display"
   ]
  },
  {
   "cell_type": "code",
   "execution_count": null,
   "id": "c1a7d079-a2e3-4e6b-a4c0-ee05e3cd169b",
   "metadata": {},
   "outputs": [],
   "source": [
    "import rpy2\n",
    "import rpy2.robjects as ro\n",
    "import rpy2.robjects.packages as rpackages\n",
    "from rpy2.robjects import numpy2ri\n",
    "from rpy2.robjects import pandas2ri\n",
    "numpy2ri.activate()\n",
    "pandas2ri.activate()"
   ]
  },
  {
   "cell_type": "code",
   "execution_count": null,
   "id": "c4944511-29cc-48c9-a4be-232711c4fc4d",
   "metadata": {},
   "outputs": [],
   "source": [
    "utils = rpackages.importr('utils')\n",
    "# select a mirror for R packages\n",
    "utils.chooseCRANmirror(ind=1) # select the first mirror in the list\n",
    "if not rpackages.isinstalled('anthro'):\n",
    "    # environ[\"R_LIBS\"] = \"\"\n",
    "    # utils.install_packages('anthro')\n",
    "    utils.install_packages('anthro', lib=str(Path.home() / \"R\"))\n",
    "anthro = rpackages.importr('anthro')"
   ]
  },
  {
   "cell_type": "code",
   "execution_count": null,
   "id": "58953ab1-b246-43db-9580-405f69afddd6",
   "metadata": {
    "scrolled": true
   },
   "outputs": [],
   "source": [
    "growthstandards = {\n",
    "    n.removeprefix(\"growthstandards_\").removesuffix(\"anthro\"):\n",
    "    ro.conversion.rpy2py(getattr(anthro, n)) \n",
    "    for n in dir(anthro) if n.startswith(\"growthstandards_\")\n",
    "}\n",
    "growthstandards"
   ]
  },
  {
   "cell_type": "code",
   "execution_count": null,
   "id": "a6a86e4b-b1f1-4378-890c-0ba1aa235850",
   "metadata": {},
   "outputs": [],
   "source": [
    "df = growthstandards[\"bmi\"]\n",
    "df[\"loh\"] = df[\"loh\"].astype(\"category\")\n",
    "df"
   ]
  },
  {
   "cell_type": "code",
   "execution_count": null,
   "id": "2b0fc097-001e-4dd5-adef-b8d4221f86f9",
   "metadata": {},
   "outputs": [],
   "source": [
    "coord_attr_map = dict(\n",
    "    age=dict(long_name=\"Age\", units=\"days\"),\n",
    "    length=dict(long_name=\"Recumbent Length\", units=\"cm\"),\n",
    "    height=dict(long_name=\"Standing Height\", units=\"cm\"),\n",
    "    # lorh=dict(long_name=\"Parameterized by Recumbent Length or Standing Height\"),\n",
    ")"
   ]
  },
  {
   "cell_type": "code",
   "execution_count": null,
   "id": "fd578542-c51f-4d95-a207-c0f811b04d8a",
   "metadata": {},
   "outputs": [],
   "source": [
    "var_attr_map = dict(\n",
    "    ac=dict(name=\"arm_c\", long_name=\"Arm Circumference\", units=\"cm\"),\n",
    "    hc=dict(name=\"head_c\", long_name=\"Head Circumference\", units=\"cm\"),\n",
    "    bmi=dict(name=\"bmi\", long_name=\"Body Mass Index\", units=\"kg/m^2\"),\n",
    "    len=dict(name=\"len_hi\", units=\"cm\"),\n",
    "    ss=dict(name=\"ss\", long_name=\"Subscapular Skinfold\", units=\"mm\"),\n",
    "    ts=dict(name=\"ts\", long_name=\"Triceps Skinfold\", units=\"mm\"),\n",
    "    wei=dict(name=\"weight\", long_name=\"Weight\", units=\"kg\"),\n",
    "    wfl=dict(name=\"wfl\", long_name=\"Weight for Length\", units=\"kg\"),\n",
    "    wfh=dict(name=\"wfh\", long_name=\"Weight for Height\", units=\"kg\"),\n",
    ")"
   ]
  },
  {
   "cell_type": "code",
   "execution_count": null,
   "id": "ca2bebed-5caa-4a57-9d5c-54d926719ef5",
   "metadata": {
    "scrolled": true
   },
   "outputs": [],
   "source": [
    "def _fixup_gen():\n",
    "    for k, gdf in growthstandards.items():\n",
    "        gds = gdf.set_index([\"sex\", gdf.columns[1]]).to_xarray()\n",
    "        attr_map = var_attr_map[k].copy()\n",
    "        name = attr_map.pop(\"name\", k)\n",
    "        gds = gds.assign_attrs(**attr_map)\n",
    "        for c in gds.coords:\n",
    "            if c in coord_attr_map:\n",
    "                gds.coords[c].attrs.update(coord_attr_map[c])\n",
    "        if \"sex\" in gds.coords:\n",
    "            gds = gds.reset_index(\"sex\").rename_vars({\"sex\": \"sex_enum\"}).assign_coords(\n",
    "                sex=lambda ds: [{1: \"Male\", 2: \"Female\"}[s.item()] for s in ds.sex_enum])\n",
    "        if \"loh\" in gds.keys():\n",
    "            gds = gds.rename_vars({\"loh\": \"lorh\"})\n",
    "        if \"lorh\" in gds.keys():\n",
    "            gds = gds.set_coords(\"lorh\")\n",
    "            if k in (\"wfl\", \"wfh\"):\n",
    "                yield name, gds.drop(\"lorh\")\n",
    "            elif k == \"len\":\n",
    "                yield \"length\", gds.where(lambda ds: ds.lorh == \"L\", drop=True).drop(\"lorh\").assign_attrs(long_name=\"Recumbent Length\")\n",
    "                yield \"height\", gds.where(lambda ds: ds.lorh == \"H\", drop=True).drop(\"lorh\").assign_attrs(long_name=\"Standing Height\")\n",
    "            elif k == \"bmi\":\n",
    "                yield \"bmi_length\", gds.where(lambda ds: ds.lorh == \"L\", drop=True).drop(\"lorh\").assign_attrs(long_name=\"Body Mass Index (Recumbent Length)\")\n",
    "                yield \"bmi_height\", gds.where(lambda ds: ds.lorh == \"H\", drop=True).drop(\"lorh\").assign_attrs(long_name=\"Body Mass Index (Standing Height)\")\n",
    "            else:\n",
    "                raise NotImplementedError(k, gds)\n",
    "        else:\n",
    "            yield name, gds\n",
    "\n",
    "growthstandards_dss = dict(_fixup_gen())\n",
    "for name, gds in growthstandards_dss.items():\n",
    "    _long_name = gds.attrs.get(\"long_name\", \"\")\n",
    "    display(Markdown(f\"#### {name}  [\\\"{_long_name}\\\"]\"), gds)"
   ]
  },
  {
   "cell_type": "code",
   "execution_count": null,
   "id": "0ad8352d-d54d-4403-b8d6-9909187a3c45",
   "metadata": {},
   "outputs": [],
   "source": [
    "for name, gds in growthstandards_dss.items():\n",
    "    gds.to_zarr(\"growthstandards.zarr\", group=name)"
   ]
  }
 ],
 "metadata": {
  "kernelspec": {
   "display_name": "Python 3",
   "language": "python",
   "name": "python3"
  },
  "language_info": {
   "codemirror_mode": {
    "name": "ipython",
    "version": 3
   },
   "file_extension": ".py",
   "mimetype": "text/x-python",
   "name": "python",
   "nbconvert_exporter": "python",
   "pygments_lexer": "ipython3",
   "version": "3.10.6"
  }
 },
 "nbformat": 4,
 "nbformat_minor": 5
}
