{
 "cells": [
  {
   "cell_type": "code",
   "execution_count": null,
   "metadata": {},
   "outputs": [],
   "source": [
    "import numpy as np\n",
    "import xarray as xr\n",
    "import scipy.stats as stats\n",
    "import matplotlib.pyplot as plt"
   ]
  },
  {
   "cell_type": "code",
   "execution_count": null,
   "metadata": {},
   "outputs": [],
   "source": [
    "from xarray_stats import XrContinuousRV\n",
    "from bcs_ext.scipy_ext import BCCG, BCPE"
   ]
  },
  {
   "cell_type": "code",
   "execution_count": 399,
   "metadata": {},
   "outputs": [],
   "source": [
    "def coord_da(vs, name):\n",
    "    return xr.DataArray(vs, dims=name).assign_coords({name: lambda da: da})"
   ]
  },
  {
   "cell_type": "code",
   "execution_count": null,
   "metadata": {},
   "outputs": [],
   "source": [
    "growthstandard_keys = \"ac\", \"bmi\", \"hc\", \"len\", \"ss\", \"ts\", \"wei\", \"wfh\", \"wfl\"\n",
    "growthstandard_dss = {\n",
    "    k: xr.open_zarr(store=\"growthstandards.zarr\", group=k, decode_times=False).load()\n",
    "    for k in growthstandard_keys\n",
    "}\n",
    "growthstandard_dss"
   ]
  },
  {
   "cell_type": "code",
   "execution_count": null,
   "metadata": {},
   "outputs": [],
   "source": [
    "def _gds_to_rv(gds):\n",
    "    return XrContinuousRV.from_ds(\n",
    "        BCCG, gds.rename_vars({\"m\": \"mu\", \"s\": \"sigma\", \"l\": \"nu\"})\n",
    "    )\n",
    "\n",
    "\n",
    "def _gdss_to_rvs(gdss_dict):\n",
    "    for k, gds in gdss_dict.items():\n",
    "        if \"lorh\" in gds.coords:\n",
    "            if k in (\"wfl\", \"wfh\"):\n",
    "                yield k, _gds_to_rv(gds.drop(\"lorh\"))\n",
    "            elif k == \"len\":\n",
    "                yield \"len\", _gds_to_rv(\n",
    "                    gds.where(lambda ds: ds.lorh == \"L\", drop=True).drop(\"lorh\")\n",
    "                )\n",
    "                yield \"hei\", _gds_to_rv(\n",
    "                    gds.where(lambda ds: ds.lorh == \"H\", drop=True).drop(\"lorh\")\n",
    "                )\n",
    "                yield \"len_hei\", _gds_to_rv(gds)\n",
    "            else:\n",
    "                yield k, _gds_to_rv(gds)\n",
    "        else:\n",
    "            yield k, _gds_to_rv(gds)\n",
    "\n",
    "\n",
    "growthstandard_rvs = dict(_gdss_to_rvs(growthstandard_dss))\n",
    "growthstandard_rvs"
   ]
  },
  {
   "cell_type": "code",
   "execution_count": null,
   "metadata": {},
   "outputs": [],
   "source": [
    "# _vs = \"wei\", \"len\", \"hei\", \"bmi\", \"wfl\", \"wfh\"\n",
    "_vs = \"wei\", \"len_hei\", \"bmi\", \"wfl\", \"wfh\"\n",
    "\n",
    "fig, axs = plt.subplots(len(_vs), 2, layout=\"constrained\", figsize=(12, 5 * len(_vs)))\n",
    "\n",
    "for raxs, v in zip(axs, _vs):\n",
    "    grv = growthstandard_rvs[v]\n",
    "    _y = coord_da(np.linspace(grv.ppf(0.01).min(), grv.ppf(0.99).max(), num=1000), v)\n",
    "    p2d = grv.pdf(_y)\n",
    "    for ax, s in zip(raxs, (\"Female\", \"Male\")):\n",
    "        p2d.sel(sex=s).drop(\"sex_enum\").plot.imshow(y=v, add_colorbar=False, ax=ax)"
   ]
  },
  {
   "cell_type": "code",
   "execution_count": null,
   "metadata": {},
   "outputs": [],
   "source": [
    "def _rtol(a, b):\n",
    "    return abs(a - b) / abs(a)"
   ]
  },
  {
   "cell_type": "code",
   "execution_count": null,
   "metadata": {},
   "outputs": [],
   "source": [
    "# grv = growthstandard_rvs[\"len_hei\"]\n",
    "grv = growthstandard_rvs[\"len\"]\n",
    "print(grv.as_ds()[\"mu\"].values)\n",
    "print(grv.median().values)\n",
    "print(np.allclose(grv.as_ds()[\"mu\"], grv.median()))\n",
    "print(grv.as_ds()[\"sigma\"].values)\n",
    "_grv_approx_sigma = (\n",
    "    np.arcsinh(\n",
    "        ((grv.ppf(0.75) - grv.ppf(0.25)) / grv.median()) / 2\n",
    "    ) / stats.norm.ppf(0.75)\n",
    ")\n",
    "print(_grv_approx_sigma.values)\n",
    "req_rtol = _rtol(grv.as_ds()[\"sigma\"], _grv_approx_sigma).max()\n",
    "print(f\"Required relative tolerance: {req_rtol:e}\")"
   ]
  },
  {
   "cell_type": "code",
   "execution_count": null,
   "metadata": {},
   "outputs": [],
   "source": [
    "growthstandard_rvs[\"wfl\"].as_ds()[\"sigma\"].plot.line(x=\"length\")"
   ]
  },
  {
   "cell_type": "code",
   "execution_count": null,
   "metadata": {},
   "outputs": [],
   "source": [
    "def xr_bcs_mul(rv, c):\n",
    "    distr = rv._distr\n",
    "    rv_params = list(rv.as_ds().values())\n",
    "    return XrContinuousRV(\n",
    "        distr,\n",
    "        rv_params[0] * c,\n",
    "        *rv_params[1:]\n",
    "    )\n"
   ]
  },
  {
   "cell_type": "code",
   "execution_count": null,
   "metadata": {},
   "outputs": [],
   "source": [
    "_q0 = 1e-4\n",
    "quantiles = coord_da([_q0, 0.25, 0.5, 0.75, 1 - _q0], \"quantile\")\n",
    "quantiles"
   ]
  },
  {
   "attachments": {},
   "cell_type": "markdown",
   "metadata": {},
   "source": [
    "### TODO: derive P(G_A) from P(W | L), P(W_A), P(L_A), where G = W / L, and A is indexed by age\n",
    "$$\n",
    "\\begin{align}\n",
    "A &= \\text{age} \\\\\n",
    "G &= W / L \\\\\n",
    "p_G(g) &= \\int_L |l| p_{W,L}(g l, l) \\mathrm{d}l \\\\\n",
    "&= \\int_L |l| p_{W | L}(g l | l) p_L(l) \\mathrm{d}l \\\\\n",
    "&= \\mathrm{E}_L[|L| p_{W | L}(g L | L)] \\\\\n",
    "\\mathrm{P}(G=g) &= \\int_L |l| \\mathrm{P}(W = g l | L = l) \\mathrm{P}(L = l) \\mathrm{d}l\n",
    "\\end{align}\n",
    "$$"
   ]
  },
  {
   "cell_type": "code",
   "execution_count": null,
   "metadata": {},
   "outputs": [],
   "source": [
    "_len = growthstandard_rvs[\"wfl\"].as_ds().length\n",
    "_hei = growthstandard_rvs[\"wfh\"].as_ds().height\n",
    "\n",
    "len_rv = growthstandard_rvs[\"len\"]\n",
    "hei_rv = growthstandard_rvs[\"hei\"]\n",
    "gfl_rv = xr_bcs_mul(growthstandard_rvs[\"wfl\"], 1 / _len)\n",
    "gfh_rv = xr_bcs_mul(growthstandard_rvs[\"wfh\"], 1 / _hei)\n",
    "\n",
    "growth_da = coord_da(np.linspace(0.01, 0.25, 100), \"growth\")\n",
    "# growth_da = coord_da(np.linspace(0.01, 0.25, 1_000), \"growth\")\n",
    "_p_l = len_rv.pdf(_len)\n",
    "_p_h = hei_rv.pdf(_hei)\n",
    "_p_lg_l = gfl_rv.pdf(growth_da)\n",
    "_p_hg_h = gfh_rv.pdf(growth_da)\n",
    "p_g_l = (_p_lg_l * _p_l).integrate(\"length\")\n",
    "p_g_h = (_p_hg_h * _p_h).integrate(\"height\")\n",
    "p_g = xr.combine_by_coords([p_g_l, p_g_h])\n",
    "p_g"
   ]
  },
  {
   "cell_type": "code",
   "execution_count": null,
   "metadata": {},
   "outputs": [],
   "source": [
    "p_g.integrate(\"growth\")"
   ]
  },
  {
   "cell_type": "code",
   "execution_count": null,
   "metadata": {},
   "outputs": [],
   "source": [
    "_cdf_lg_l = gfl_rv.cdf(growth_da)\n",
    "_cdf_hg_h = gfh_rv.cdf(growth_da)\n",
    "cdf_g_l = (_cdf_lg_l * _p_l).integrate(\"length\")\n",
    "cdf_g_h = (_cdf_hg_h * _p_h).integrate(\"height\")\n",
    "cdf_g = xr.combine_by_coords([cdf_g_l, cdf_g_h])\n",
    "cdf_g"
   ]
  },
  {
   "cell_type": "code",
   "execution_count": null,
   "metadata": {},
   "outputs": [],
   "source": [
    "def min_max(x, dim=None):\n",
    "    return x.min(dim=dim), x.max(dim=dim)"
   ]
  },
  {
   "cell_type": "code",
   "execution_count": null,
   "metadata": {},
   "outputs": [],
   "source": [
    "import scipy.optimize as optimize"
   ]
  },
  {
   "cell_type": "code",
   "execution_count": null,
   "metadata": {},
   "outputs": [],
   "source": [
    "def scalar_find_ppf_as_root(q, lb, ub, x, p_x, *shape_params):\n",
    "    cond_rv = BCCG(*shape_params)\n",
    "    # print(q, lb, ub, x, p_x, cond_rv)\n",
    "    def fun(g):\n",
    "        return np.trapz(p_x * cond_rv.cdf(g), x) - q\n",
    "    def dfun(g):\n",
    "        return np.trapz(p_x * cond_rv.pdf(g), x)\n",
    "\n",
    "    if fun(lb) >= 0:\n",
    "        return lb\n",
    "    if fun(ub) <= 0:\n",
    "        return ub\n",
    "    res = optimize.root_scalar(fun, fprime=dfun, bracket=(lb, ub))\n",
    "    # res = optimize.root_scalar(fun, fprime=dfun, x0=(lb + ub) / 2)\n",
    "    return res.root\n"
   ]
  },
  {
   "cell_type": "code",
   "execution_count": null,
   "metadata": {},
   "outputs": [],
   "source": [
    "def find_ppf_as_root(q, x, x_rv, cond_rv):\n",
    "    cond_g_q = cond_rv.ppf(q)\n",
    "    lb, ub = cond_g_q.min(x.dims), cond_g_q.max(x.dims)\n",
    "    # g0 = cond_g_q.mean(x.dims)\n",
    "    shape_params = list(cond_rv.as_ds().values())\n",
    "    input_core_dims = [[]] * 3 + [x.dims] * (2 + len(shape_params))\n",
    "    return xr.apply_ufunc(\n",
    "        scalar_find_ppf_as_root,\n",
    "        q,\n",
    "        lb,\n",
    "        ub,\n",
    "        x,\n",
    "        x_rv.pdf(x),\n",
    "        *shape_params,\n",
    "        input_core_dims=input_core_dims,\n",
    "        vectorize=True\n",
    "    )"
   ]
  },
  {
   "cell_type": "code",
   "execution_count": null,
   "metadata": {},
   "outputs": [],
   "source": [
    "l_distr_qs = find_ppf_as_root(quantiles, _len, len_rv, gfl_rv)\n",
    "h_distr_qs = find_ppf_as_root(quantiles, _hei, hei_rv, gfh_rv)\n",
    "distr_qs = xr.combine_by_coords([l_distr_qs, h_distr_qs])\n",
    "distr_qs"
   ]
  },
  {
   "cell_type": "code",
   "execution_count": null,
   "metadata": {},
   "outputs": [],
   "source": [
    "fig, axs = plt.subplots(3, 2, layout=\"constrained\", figsize=(14, 15))\n",
    "p_g.isel(sex=0).plot.imshow(x=\"age\", ax=axs[0, 0])\n",
    "p_g.isel(sex=1).plot.imshow(x=\"age\", ax=axs[0, 1])\n",
    "\n",
    "growth_cdf = cdf_g\n",
    "growth_cdf.isel(sex=0).plot.imshow(x=\"age\", ax=axs[1, 0])\n",
    "growth_cdf.isel(sex=1).plot.imshow(x=\"age\", ax=axs[1, 1])\n",
    "\n",
    "growth_cdf = cdf_g - p_g.cumulative_integrate(\"growth\")\n",
    "growth_cdf.isel(sex=0).plot.imshow(x=\"age\", ax=axs[2, 0])\n",
    "growth_cdf.isel(sex=1).plot.imshow(x=\"age\", ax=axs[2, 1])\n",
    "del growth_cdf"
   ]
  },
  {
   "cell_type": "code",
   "execution_count": null,
   "metadata": {},
   "outputs": [],
   "source": [
    "p_g.isel(age=0).plot(x=\"growth\", hue=\"sex\")"
   ]
  },
  {
   "cell_type": "code",
   "execution_count": null,
   "metadata": {},
   "outputs": [],
   "source": [
    "_p_g_x = p_g.growth.values\n",
    "_dp_g_x = _p_g_x[1] - _p_g_x[0]\n",
    "_p_g_bins = np.append(_p_g_x - _dp_g_x / 2, _p_g_x[-1] + _dp_g_x / 2)\n",
    "_distr = stats.rv_histogram((p_g.isel(age=0, sex=0), _p_g_bins), density=True)\n",
    "_distr"
   ]
  },
  {
   "cell_type": "code",
   "execution_count": null,
   "metadata": {},
   "outputs": [],
   "source": [
    "_distr_median = xr.apply_ufunc(\n",
    "    lambda p: stats.rv_histogram((p, _p_g_bins), density=True).median(),\n",
    "    p_g,\n",
    "    input_core_dims=[[\"growth\"]],\n",
    "    vectorize=True,\n",
    ")\n",
    "_distr_median"
   ]
  },
  {
   "cell_type": "code",
   "execution_count": null,
   "metadata": {},
   "outputs": [],
   "source": [
    "distr_median = distr_qs.sel(quantile=0.5)\n",
    "distr_median"
   ]
  },
  {
   "cell_type": "code",
   "execution_count": null,
   "metadata": {},
   "outputs": [],
   "source": [
    "_q0 = 1e-4\n",
    "_q = quantiles\n",
    "_distr_qs = xr.apply_ufunc(\n",
    "    lambda p, q: stats.rv_histogram((p, _p_g_bins), density=True).ppf(q),\n",
    "    p_g,\n",
    "    _q,\n",
    "    input_core_dims=[[\"growth\"], _q.dims],\n",
    "    output_core_dims=[_q.dims],\n",
    "    vectorize=True,\n",
    ")\n",
    "_distr_qs"
   ]
  },
  {
   "cell_type": "code",
   "execution_count": null,
   "metadata": {},
   "outputs": [],
   "source": [
    "_distr_median.plot.line(x=\"age\", hue=\"sex\")\n",
    "distr_median.plot.line(x=\"age\", hue=\"sex\")"
   ]
  },
  {
   "cell_type": "code",
   "execution_count": null,
   "metadata": {},
   "outputs": [],
   "source": [
    "_distr_qcv = (3/4) * (_distr_qs.sel(quantile=0.75) - _distr_qs.sel(quantile=0.25)) / _distr_median\n",
    "_distr_qcv"
   ]
  },
  {
   "cell_type": "code",
   "execution_count": null,
   "metadata": {},
   "outputs": [],
   "source": [
    "distr_qcv = (3/4) * (distr_qs.sel(quantile=0.75) - distr_qs.sel(quantile=0.25)) / distr_median\n",
    "distr_qcv"
   ]
  },
  {
   "cell_type": "code",
   "execution_count": null,
   "metadata": {},
   "outputs": [],
   "source": [
    "_distr_qcv.plot.line(x=\"age\", hue=\"sex\")"
   ]
  },
  {
   "cell_type": "code",
   "execution_count": null,
   "metadata": {},
   "outputs": [],
   "source": [
    "distr_qcv.plot.line(x=\"age\", hue=\"sex\")"
   ]
  },
  {
   "cell_type": "code",
   "execution_count": null,
   "metadata": {},
   "outputs": [],
   "source": [
    "_approx_sigma = np.arcsinh(_distr_qcv / 1.5) / stats.norm.ppf(0.75)\n",
    "_approx_sigma"
   ]
  },
  {
   "cell_type": "code",
   "execution_count": null,
   "metadata": {},
   "outputs": [],
   "source": [
    "approx_sigma = np.arcsinh(distr_qcv / 1.5) / stats.norm.ppf(0.75)\n",
    "approx_sigma"
   ]
  },
  {
   "cell_type": "code",
   "execution_count": null,
   "metadata": {},
   "outputs": [],
   "source": [
    "_approx_sigma.plot.line(x=\"age\", hue=\"sex\")\n",
    "approx_sigma.plot.line(x=\"age\", hue=\"sex\")"
   ]
  },
  {
   "cell_type": "code",
   "execution_count": null,
   "metadata": {},
   "outputs": [],
   "source": [
    "_distr_mean, _distr_var, _distr_skew, _distr_kurt = xr.apply_ufunc(\n",
    "    lambda p: stats.rv_histogram((p, _p_g_bins), density=True).stats(moments=\"mvsk\"),\n",
    "    p_g,\n",
    "    input_core_dims=[[\"growth\"]],\n",
    "    output_core_dims=[(), (), (), ()],\n",
    "    vectorize=True,\n",
    ")\n",
    "xr.Dataset(dict(zip(\"mvsk\", (_distr_mean, _distr_var, _distr_skew, _distr_kurt))))"
   ]
  },
  {
   "cell_type": "code",
   "execution_count": null,
   "metadata": {},
   "outputs": [],
   "source": [
    "_distr_mean.plot.line(x=\"age\", hue=\"sex\")\n",
    "_distr_median.plot.line(x=\"age\", hue=\"sex\")"
   ]
  },
  {
   "cell_type": "code",
   "execution_count": null,
   "metadata": {},
   "outputs": [],
   "source": [
    "_distr_var.plot.line(x=\"age\", hue=\"sex\")"
   ]
  },
  {
   "cell_type": "code",
   "execution_count": null,
   "metadata": {},
   "outputs": [],
   "source": [
    "np.sqrt(_distr_var).plot.line(x=\"age\", hue=\"sex\")"
   ]
  },
  {
   "cell_type": "code",
   "execution_count": null,
   "metadata": {},
   "outputs": [],
   "source": [
    "(np.sqrt(_distr_var) / _distr_median).plot.line(x=\"age\", hue=\"sex\")"
   ]
  },
  {
   "cell_type": "code",
   "execution_count": null,
   "metadata": {},
   "outputs": [],
   "source": [
    "(np.sqrt(_distr_var) / _distr_mean).plot.line(x=\"age\", hue=\"sex\")"
   ]
  },
  {
   "cell_type": "code",
   "execution_count": null,
   "metadata": {},
   "outputs": [],
   "source": [
    "# (np.sqrt(_distr_var) / _distr_median).plot.line(x=\"age\", hue=\"sex\")\n",
    "(np.sqrt(_distr_var) / _distr_mean).plot.line(x=\"age\", hue=\"sex\")\n",
    "_distr_qcv.plot.line(x=\"age\", hue=\"sex\")"
   ]
  },
  {
   "cell_type": "code",
   "execution_count": null,
   "metadata": {},
   "outputs": [],
   "source": [
    "approx_sigma.plot.line(x=\"age\", hue=\"sex\")\n",
    "(np.sqrt(_distr_var) / _distr_mean).plot.line(x=\"age\", hue=\"sex\")"
   ]
  },
  {
   "cell_type": "code",
   "execution_count": null,
   "metadata": {},
   "outputs": [],
   "source": [
    "_distr_skew.plot.line(x=\"age\", hue=\"sex\")"
   ]
  },
  {
   "cell_type": "code",
   "execution_count": null,
   "metadata": {},
   "outputs": [],
   "source": [
    "_distr_kurt.plot.line(x=\"age\", hue=\"sex\")"
   ]
  },
  {
   "cell_type": "code",
   "execution_count": null,
   "metadata": {},
   "outputs": [],
   "source": [
    "p_g.isel(age=0).plot.line(x=\"growth\", hue=\"sex\")"
   ]
  },
  {
   "cell_type": "code",
   "execution_count": null,
   "metadata": {},
   "outputs": [],
   "source": [
    "p_g.isel(age=57).plot.line(x=\"growth\", hue=\"sex\")"
   ]
  },
  {
   "cell_type": "code",
   "execution_count": null,
   "metadata": {},
   "outputs": [],
   "source": [
    "N_SAMPLE = 100\n",
    "_distr_sample = xr.apply_ufunc(\n",
    "    lambda p: stats.rv_histogram((p, _p_g_bins), density=True).rvs(size=N_SAMPLE),\n",
    "    p_g,\n",
    "    input_core_dims=[[\"growth\"]],\n",
    "    output_core_dims=[[\"sample\"]],\n",
    "    vectorize=True,\n",
    ")\n",
    "_distr_sample"
   ]
  },
  {
   "cell_type": "code",
   "execution_count": null,
   "metadata": {},
   "outputs": [],
   "source": [
    "fig, axs = plt.subplots(2, 2, layout=\"constrained\", figsize=(14, 12))\n",
    "_distr_sample.isel(sex=0).plot.scatter(x=\"age\", ax=axs[0, 0])\n",
    "_distr_sample.isel(sex=1).plot.scatter(x=\"age\", ax=axs[0, 1])\n",
    "\n",
    "_trans_distr_sample = (_distr_sample / _distr_median) **(-1.511e-01)\n",
    "_trans_distr_sample.isel(sex=0).plot.scatter(x=\"age\", ax=axs[1, 0])\n",
    "_trans_distr_sample.isel(sex=1).plot.scatter(x=\"age\", ax=axs[1, 1])"
   ]
  },
  {
   "cell_type": "code",
   "execution_count": null,
   "metadata": {},
   "outputs": [],
   "source": [
    "xr.Dataset({\n",
    "    \"median\": _trans_distr_sample.median(dim=\"sample\"),\n",
    "    \"std\": _trans_distr_sample.std(dim=\"sample\"),\n",
    "    \"skew\": _trans_distr_sample.reduce(stats.skew, dim=\"sample\"),\n",
    "})"
   ]
  },
  {
   "cell_type": "code",
   "execution_count": null,
   "metadata": {},
   "outputs": [],
   "source": [
    "import scipy.optimize as optimize"
   ]
  },
  {
   "cell_type": "code",
   "execution_count": null,
   "metadata": {},
   "outputs": [],
   "source": [
    "_sex = \"Male\"\n",
    "\n",
    "_m = _distr_median.sel(sex=_sex)\n",
    "_s = np.sqrt(_distr_var).sel(sex=_sex)\n",
    "# _cv = _s / _m\n",
    "_cv = approx_sigma.sel(sex=_sex)\n",
    "_truth = p_g.sel(sex=_sex)\n",
    "\n",
    "_norm_cost = (\n",
    "    0.5 * ((_truth - xr.apply_ufunc(stats.norm.pdf, p_g.growth, _m, _s)) ** 2).sum()\n",
    ")\n",
    "print(\"Normal Fit:\")\n",
    "print(\"        cost:\", _norm_cost.values)\n",
    "_bccg_fit = optimize.least_squares(\n",
    "    lambda x: (\n",
    "        (_truth - xr.apply_ufunc(BCCG.pdf, p_g.growth, _m, _cv, *x)) ** 2\n",
    "    ).values.flatten(),\n",
    "    x0=-0.3,\n",
    ")\n",
    "print(\"BCCG Fit:\")\n",
    "print(_bccg_fit)\n",
    "_bcpe_fit = optimize.least_squares(\n",
    "    lambda x: (\n",
    "        (_truth - xr.apply_ufunc(BCPE.pdf, p_g.growth, _m, _cv, *x)) ** 2\n",
    "    ).values.flatten(),\n",
    "    x0=[-0.3, 1],\n",
    ")\n",
    "print(\"BCPE Fit:\")\n",
    "print(_bcpe_fit)"
   ]
  },
  {
   "cell_type": "code",
   "execution_count": null,
   "metadata": {},
   "outputs": [],
   "source": [
    "fig, axs = plt.subplots(2, 1, figsize=(12, 12))\n",
    "\n",
    "((_truth - xr.apply_ufunc(stats.norm.pdf, p_g.growth, _m, _s)) ** 2).sum(\n",
    "    dim=\"growth\"\n",
    ").plot.line(ax=axs[0], label=\"Norm cost\")\n",
    "ax.legend()\n",
    "((_truth - xr.apply_ufunc(BCCG.pdf, p_g.growth, _m, _cv, *_bccg_fit.x)) ** 2).sum(\n",
    "    dim=\"growth\"\n",
    ").plot.line(ax=axs[1], label=\"BCCG cost\")\n",
    "((_truth - xr.apply_ufunc(BCPE.pdf, p_g.growth, _m, _cv, *_bcpe_fit.x)) ** 2).sum(\n",
    "    dim=\"growth\"\n",
    ").plot.line(ax=axs[1], label=\"BCPE cost\")\n",
    "ax.legend()"
   ]
  },
  {
   "cell_type": "code",
   "execution_count": null,
   "metadata": {},
   "outputs": [],
   "source": [
    "fig, axs = plt.subplots(3, 1, figsize=(18, 12), sharex=True, layout=\"constrained\")\n",
    "_idx = 57\n",
    "\n",
    "ax = axs[0]\n",
    "_truth.isel(age=_idx).plot.line(ax=ax, x=\"growth\", label=\"truth\")\n",
    "xr.apply_ufunc(stats.norm.pdf, p_g.growth, _m, _s).isel(age=_idx).plot.line(\n",
    "    ax=ax, x=\"growth\", ls=\"--\", label=\"norm fit\"\n",
    ")\n",
    "ax.set_title(\"Normal Fit\")\n",
    "ax = axs[1]\n",
    "_truth.isel(age=_idx).plot.line(ax=ax, x=\"growth\", label=\"truth\")\n",
    "xr.apply_ufunc(BCCG.pdf, p_g.growth, _m, _cv, *_bccg_fit.x).isel(age=_idx).plot.line(\n",
    "    ax=ax, x=\"growth\", ls=\"--\", label=\"bccg fit\"\n",
    ")\n",
    "ax.set_title(\"BCCG Fit\")\n",
    "ax = axs[2]\n",
    "_truth.isel(age=_idx).plot.line(ax=ax, x=\"growth\", label=\"truth\")\n",
    "xr.apply_ufunc(BCPE.pdf, p_g.growth, _m, _cv, *_bcpe_fit.x).isel(age=_idx).plot.line(\n",
    "    ax=ax, x=\"growth\", ls=\"--\", label=\"bcpe fit\"\n",
    ")\n",
    "ax.set_title(\"BCPE Fit\")\n",
    "_q_lims = _distr_qs.sel(sex=_sex).isel(age=_idx)\n",
    "ax.set_xlim(_q_lims.isel(quantile=0), _q_lims.isel(quantile=-1))"
   ]
  },
  {
   "cell_type": "code",
   "execution_count": null,
   "metadata": {},
   "outputs": [],
   "source": [
    "_sex = \"Male\"\n",
    "\n",
    "_m = _distr_median.sel(sex=_sex)\n",
    "_s = np.sqrt(_distr_var).sel(sex=_sex)\n",
    "# _cv = _s / _m\n",
    "_cv = approx_sigma.sel(sex=_sex)\n",
    "_truth = np.log(p_g.sel(sex=_sex))\n",
    "\n",
    "_norm_cost = (\n",
    "    0.5 * ((_truth - xr.apply_ufunc(stats.norm.logpdf, p_g.growth, _m, _s)) ** 2).sum()\n",
    ")\n",
    "print(\"Normal Fit:\")\n",
    "print(\"        cost:\", _norm_cost.values)\n",
    "_bccg_fit = optimize.least_squares(\n",
    "    lambda x: (\n",
    "        (_truth - xr.apply_ufunc(BCCG.logpdf, p_g.growth, _m, _cv, *x)) ** 2\n",
    "    ).values.flatten(),\n",
    "    x0=-0.3,\n",
    ")\n",
    "print(\"BCCG Fit:\")\n",
    "print(_bccg_fit)\n",
    "_bcpe_fit = optimize.least_squares(\n",
    "    lambda x: (\n",
    "        (_truth - xr.apply_ufunc(BCPE.logpdf, p_g.growth, _m, _cv, *x)) ** 2\n",
    "    ).values.flatten(),\n",
    "    x0=[-0.3, 1],\n",
    ")\n",
    "print(\"BCPE Fit:\")\n",
    "print(_bcpe_fit)\n",
    "\n",
    "_truth = p_g.sel(sex=_sex)"
   ]
  },
  {
   "cell_type": "code",
   "execution_count": null,
   "metadata": {},
   "outputs": [],
   "source": [
    "fig, axs = plt.subplots(2, 1, figsize=(12, 12))\n",
    "\n",
    "((_truth - xr.apply_ufunc(stats.norm.pdf, p_g.growth, _m, _s)) ** 2).sum(\n",
    "    dim=\"growth\"\n",
    ").plot.line(ax=axs[0], label=\"Norm cost\")\n",
    "ax.legend()\n",
    "((_truth - xr.apply_ufunc(BCCG.pdf, p_g.growth, _m, _cv, *_bccg_fit.x)) ** 2).sum(\n",
    "    dim=\"growth\"\n",
    ").plot.line(ax=axs[1], label=\"BCCG cost\")\n",
    "((_truth - xr.apply_ufunc(BCPE.pdf, p_g.growth, _m, _cv, *_bcpe_fit.x)) ** 2).sum(\n",
    "    dim=\"growth\"\n",
    ").plot.line(ax=axs[1], label=\"BCPE cost\")\n",
    "ax.legend()"
   ]
  },
  {
   "cell_type": "code",
   "execution_count": null,
   "metadata": {},
   "outputs": [],
   "source": [
    "fig, axs = plt.subplots(3, 1, figsize=(18, 12), sharex=True, layout=\"constrained\")\n",
    "_idx = 100\n",
    "\n",
    "ax = axs[0]\n",
    "_truth.isel(age=_idx).plot.line(ax=ax, x=\"growth\", label=\"truth\")\n",
    "xr.apply_ufunc(stats.norm.pdf, p_g.growth, _m, _s).isel(age=_idx).plot.line(\n",
    "    ax=ax, x=\"growth\", ls=\"--\", label=\"norm fit\"\n",
    ")\n",
    "ax.set_title(\"Normal Fit\")\n",
    "ax = axs[1]\n",
    "_truth.isel(age=_idx).plot.line(ax=ax, x=\"growth\", label=\"truth\")\n",
    "xr.apply_ufunc(BCCG.pdf, p_g.growth, _m, _cv, *_bccg_fit.x).isel(age=_idx).plot.line(\n",
    "    ax=ax, x=\"growth\", ls=\"--\", label=\"bccg fit\"\n",
    ")\n",
    "ax.set_title(\"BCCG Fit\")\n",
    "ax = axs[2]\n",
    "_truth.isel(age=_idx).plot.line(ax=ax, x=\"growth\", label=\"truth\")\n",
    "xr.apply_ufunc(BCPE.pdf, p_g.growth, _m, _cv, *_bcpe_fit.x).isel(age=_idx).plot.line(\n",
    "    ax=ax, x=\"growth\", ls=\"--\", label=\"bcpe fit\"\n",
    ")\n",
    "ax.set_title(\"BCPE Fit\")\n",
    "_q_lims = _distr_qs.sel(sex=_sex).isel(age=_idx)\n",
    "ax.set_xlim(_q_lims.isel(quantile=0), _q_lims.isel(quantile=-1))"
   ]
  },
  {
   "cell_type": "code",
   "execution_count": null,
   "metadata": {},
   "outputs": [],
   "source": []
  },
  {
   "cell_type": "code",
   "execution_count": null,
   "metadata": {},
   "outputs": [],
   "source": []
  },
  {
   "cell_type": "code",
   "execution_count": null,
   "metadata": {},
   "outputs": [],
   "source": []
  }
 ],
 "metadata": {
  "kernelspec": {
   "display_name": "Python 3",
   "language": "python",
   "name": "python3"
  },
  "language_info": {
   "codemirror_mode": {
    "name": "ipython",
    "version": 3
   },
   "file_extension": ".py",
   "mimetype": "text/x-python",
   "name": "python",
   "nbconvert_exporter": "python",
   "pygments_lexer": "ipython3",
   "version": "3.11.3"
  },
  "orig_nbformat": 4
 },
 "nbformat": 4,
 "nbformat_minor": 2
}
