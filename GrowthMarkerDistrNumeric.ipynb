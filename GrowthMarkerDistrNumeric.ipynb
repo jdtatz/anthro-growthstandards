{
 "cells": [
  {
   "cell_type": "code",
   "execution_count": null,
   "metadata": {},
   "outputs": [],
   "source": [
    "import numpy as np\n",
    "import xarray as xr\n",
    "import scipy.stats as stats\n",
    "import matplotlib.pyplot as plt"
   ]
  },
  {
   "cell_type": "code",
   "execution_count": null,
   "metadata": {},
   "outputs": [],
   "source": [
    "from growthstandards import rv_coords, GrowthStandards, XrCompoundRV\n",
    "from growthstandards.bcs_ext.scipy_ext import BCCG, BCPE"
   ]
  },
  {
   "cell_type": "code",
   "execution_count": null,
   "metadata": {},
   "outputs": [],
   "source": [
    "def coord_da(vs, name, attrs={}):\n",
    "    return xr.DataArray(vs, dims=name).assign_attrs(attrs).assign_coords({name: lambda da: da})"
   ]
  },
  {
   "cell_type": "code",
   "execution_count": null,
   "metadata": {},
   "outputs": [],
   "source": [
    "_vs = \"weight\", \"len_hei\", \"bmi\", \"wfl\", \"wfh\"\n",
    "\n",
    "fig, axs = plt.subplots(len(_vs), 2, layout=\"constrained\", figsize=(12, 5 * len(_vs)))\n",
    "\n",
    "for raxs, v in zip(axs, _vs):\n",
    "    grv = GrowthStandards[v]\n",
    "    _y = coord_da(np.linspace(grv.ppf(0.01).min(), grv.ppf(0.99).max(), num=1000), v, getattr(grv, \"attrs\", {}))\n",
    "    p2d = grv.pdf(_y, apply_kwargs=dict(keep_attrs=\"drop_conflicts\"))\n",
    "    for ax, s in zip(raxs, (\"Female\", \"Male\")):\n",
    "        p2d.sel(sex=s).drop(\"sex_enum\").plot.imshow(y=v, add_colorbar=False, ax=ax)"
   ]
  },
  {
   "cell_type": "code",
   "execution_count": null,
   "metadata": {},
   "outputs": [],
   "source": [
    "def _rtol(a, b):\n",
    "    return abs(a - b) / abs(a)"
   ]
  },
  {
   "cell_type": "code",
   "execution_count": null,
   "metadata": {},
   "outputs": [],
   "source": [
    "from growthstandards import rv_to_ds\n",
    "# grv = GrowthStandards[\"len_hei\"]\n",
    "grv = GrowthStandards[\"length\"]\n",
    "gds = rv_to_ds(grv)\n",
    "print(gds[\"mu\"].values)\n",
    "print(grv.median().values)\n",
    "print(np.allclose(gds[\"mu\"], grv.median()))\n",
    "print(gds[\"sigma\"].values)\n",
    "_grv_approx_sigma = (\n",
    "    np.arcsinh(\n",
    "        ((grv.ppf(0.75) - grv.ppf(0.25)) / grv.median()) / 2\n",
    "    ) / stats.norm.ppf(0.75)\n",
    ")\n",
    "print(_grv_approx_sigma.values)\n",
    "req_rtol = _rtol(gds[\"sigma\"], _grv_approx_sigma).max()\n",
    "print(f\"Required relative tolerance: {req_rtol:e}\")"
   ]
  },
  {
   "cell_type": "code",
   "execution_count": null,
   "metadata": {},
   "outputs": [],
   "source": [
    "rv_to_ds(GrowthStandards[\"wfl\"])[\"sigma\"].plot.line(x=\"length\")"
   ]
  },
  {
   "cell_type": "code",
   "execution_count": null,
   "metadata": {},
   "outputs": [],
   "source": [
    "del rv_to_ds"
   ]
  },
  {
   "cell_type": "code",
   "execution_count": null,
   "metadata": {},
   "outputs": [],
   "source": [
    "_q0 = 1e-4\n",
    "quantiles = coord_da([_q0, 0.25, 0.5, 0.75, 1 - _q0], \"quantile\")\n",
    "quantiles"
   ]
  },
  {
   "attachments": {},
   "cell_type": "markdown",
   "metadata": {},
   "source": [
    "### TODO: derive P(G_A) from P(W | L), P(W_A), P(L_A), where G = W / L, and A is indexed by age\n",
    "$$\n",
    "\\begin{align}\n",
    "A &= \\text{age} \\\\\n",
    "G &= W / L \\\\\n",
    "p_G(g) &= \\int_L |l| p_{W,L}(g l, l) \\mathrm{d}l \\\\\n",
    "&= \\int_L |l| p_{W | L}(g l | l) p_L(l) \\mathrm{d}l \\\\\n",
    "&= \\mathrm{E}_L[|L| p_{W | L}(g L | L)] \\\\\n",
    "\\mathrm{P}(G=g) &= \\int_L |l| \\mathrm{P}(W = g l | L = l) \\mathrm{P}(L = l) \\mathrm{d}l\n",
    "\\end{align}\n",
    "$$"
   ]
  },
  {
   "cell_type": "code",
   "execution_count": null,
   "metadata": {},
   "outputs": [],
   "source": [
    "len_rv = GrowthStandards[\"length\"]\n",
    "hei_rv = GrowthStandards[\"height\"]\n",
    "gfl_rv = GrowthStandards[\"gfl\"]\n",
    "gfh_rv = GrowthStandards[\"gfh\"]\n",
    "\n",
    "# length_da = rv_coords(gfl_rv)[\"length\"]\n",
    "# height_da = rv_coords(gfh_rv)[\"height\"]\n",
    "\n",
    "growth_da = coord_da(np.linspace(0.01, 0.25, 100), \"growth\")\n",
    "# growth_da = coord_da(np.linspace(0.01, 0.25, 1_000), \"growth\")\n",
    "\n",
    "# p_length_da = len_rv.pdf(length_da)\n",
    "# p_height_da = hei_rv.pdf(height_da)\n",
    "# _p_lg_l = gfl_rv.pdf(growth_da)\n",
    "# _p_hg_h = gfh_rv.pdf(growth_da)\n",
    "# p_g_l = (_p_lg_l * p_length_da).integrate(\"length\")\n",
    "# p_g_h = (_p_hg_h * p_height_da).integrate(\"height\")\n",
    "# p_g = xr.combine_by_coords([p_g_l, p_g_h])\n",
    "\n",
    "growth_len_rv = XrCompoundRV(gfl_rv, len_rv, \"length\")\n",
    "growth_hei_rv = XrCompoundRV(gfh_rv, hei_rv, \"height\")\n",
    "\n",
    "p_g = xr.combine_by_coords([\n",
    "    growth_len_rv.pdf(growth_da),\n",
    "    growth_hei_rv.pdf(growth_da),\n",
    "])\n",
    "p_g"
   ]
  },
  {
   "cell_type": "code",
   "execution_count": null,
   "metadata": {},
   "outputs": [],
   "source": [
    "p_g.integrate(\"growth\")"
   ]
  },
  {
   "cell_type": "code",
   "execution_count": null,
   "metadata": {},
   "outputs": [],
   "source": [
    "# _cdf_lg_l = gfl_rv.cdf(growth_da)\n",
    "# _cdf_hg_h = gfh_rv.cdf(growth_da)\n",
    "# cdf_g_l = (_cdf_lg_l * p_length_da).integrate(\"length\")\n",
    "# cdf_g_h = (_cdf_hg_h * p_height_da).integrate(\"height\")\n",
    "# cdf_g = xr.combine_by_coords([cdf_g_l, cdf_g_h])\n",
    "\n",
    "cdf_g = xr.combine_by_coords([\n",
    "    growth_len_rv.cdf(growth_da),\n",
    "    growth_hei_rv.cdf(growth_da),\n",
    "])\n",
    "cdf_g"
   ]
  },
  {
   "cell_type": "code",
   "execution_count": null,
   "metadata": {},
   "outputs": [],
   "source": [
    "distr_qs = xr.combine_by_coords([\n",
    "    growth_len_rv.ppf(quantiles),\n",
    "    growth_hei_rv.ppf(quantiles),\n",
    "])\n",
    "distr_qs"
   ]
  },
  {
   "cell_type": "code",
   "execution_count": null,
   "metadata": {},
   "outputs": [],
   "source": [
    "fig, axs = plt.subplots(3, 2, layout=\"constrained\", figsize=(14, 15))\n",
    "p_g.isel(sex=0).plot.imshow(x=\"age\", ax=axs[0, 0])\n",
    "p_g.isel(sex=1).plot.imshow(x=\"age\", ax=axs[0, 1])\n",
    "\n",
    "growth_cdf = cdf_g\n",
    "growth_cdf.isel(sex=0).plot.imshow(x=\"age\", ax=axs[1, 0])\n",
    "growth_cdf.isel(sex=1).plot.imshow(x=\"age\", ax=axs[1, 1])\n",
    "\n",
    "growth_cdf = cdf_g - p_g.cumulative_integrate(\"growth\")\n",
    "growth_cdf.isel(sex=0).plot.imshow(x=\"age\", ax=axs[2, 0])\n",
    "growth_cdf.isel(sex=1).plot.imshow(x=\"age\", ax=axs[2, 1])\n",
    "del growth_cdf"
   ]
  },
  {
   "cell_type": "code",
   "execution_count": null,
   "metadata": {},
   "outputs": [],
   "source": [
    "p_g.isel(age=0).plot(x=\"growth\", hue=\"sex\")"
   ]
  },
  {
   "cell_type": "code",
   "execution_count": null,
   "metadata": {},
   "outputs": [],
   "source": [
    "_p_g_x = p_g.growth.values\n",
    "_dp_g_x = _p_g_x[1] - _p_g_x[0]\n",
    "_p_g_bins = np.append(_p_g_x - _dp_g_x / 2, _p_g_x[-1] + _dp_g_x / 2)\n",
    "_distr = stats.rv_histogram((p_g.isel(age=0, sex=0), _p_g_bins), density=True)\n",
    "_distr"
   ]
  },
  {
   "cell_type": "code",
   "execution_count": null,
   "metadata": {},
   "outputs": [],
   "source": [
    "_distr_median = xr.apply_ufunc(\n",
    "    lambda p: stats.rv_histogram((p, _p_g_bins), density=True).median(),\n",
    "    p_g,\n",
    "    input_core_dims=[[\"growth\"]],\n",
    "    vectorize=True,\n",
    ")\n",
    "_distr_median"
   ]
  },
  {
   "cell_type": "code",
   "execution_count": null,
   "metadata": {},
   "outputs": [],
   "source": [
    "distr_median = distr_qs.sel(quantile=0.5)\n",
    "distr_median"
   ]
  },
  {
   "cell_type": "code",
   "execution_count": null,
   "metadata": {},
   "outputs": [],
   "source": [
    "_q0 = 1e-4\n",
    "_q = quantiles\n",
    "_distr_qs = xr.apply_ufunc(\n",
    "    lambda p, q: stats.rv_histogram((p, _p_g_bins), density=True).ppf(q),\n",
    "    p_g,\n",
    "    _q,\n",
    "    input_core_dims=[[\"growth\"], _q.dims],\n",
    "    output_core_dims=[_q.dims],\n",
    "    vectorize=True,\n",
    ")\n",
    "_distr_qs"
   ]
  },
  {
   "cell_type": "code",
   "execution_count": null,
   "metadata": {},
   "outputs": [],
   "source": [
    "_distr_median.plot.line(x=\"age\", hue=\"sex\")\n",
    "distr_median.plot.line(x=\"age\", hue=\"sex\")"
   ]
  },
  {
   "cell_type": "code",
   "execution_count": null,
   "metadata": {},
   "outputs": [],
   "source": [
    "_distr_qcv = (3/4) * (_distr_qs.sel(quantile=0.75) - _distr_qs.sel(quantile=0.25)) / _distr_median\n",
    "_distr_qcv"
   ]
  },
  {
   "cell_type": "code",
   "execution_count": null,
   "metadata": {},
   "outputs": [],
   "source": [
    "distr_qcv = (3/4) * (distr_qs.sel(quantile=0.75) - distr_qs.sel(quantile=0.25)) / distr_median\n",
    "distr_qcv"
   ]
  },
  {
   "cell_type": "code",
   "execution_count": null,
   "metadata": {},
   "outputs": [],
   "source": [
    "_distr_qcv.plot.line(x=\"age\", hue=\"sex\")"
   ]
  },
  {
   "cell_type": "code",
   "execution_count": null,
   "metadata": {},
   "outputs": [],
   "source": [
    "distr_qcv.plot.line(x=\"age\", hue=\"sex\")"
   ]
  },
  {
   "cell_type": "code",
   "execution_count": null,
   "metadata": {},
   "outputs": [],
   "source": [
    "_approx_sigma = np.arcsinh(_distr_qcv / 1.5) / stats.norm.ppf(0.75)\n",
    "_approx_sigma"
   ]
  },
  {
   "cell_type": "code",
   "execution_count": null,
   "metadata": {},
   "outputs": [],
   "source": [
    "approx_sigma = np.arcsinh(distr_qcv / 1.5) / stats.norm.ppf(0.75)\n",
    "approx_sigma"
   ]
  },
  {
   "cell_type": "code",
   "execution_count": null,
   "metadata": {},
   "outputs": [],
   "source": [
    "_approx_sigma.plot.line(x=\"age\", hue=\"sex\")\n",
    "approx_sigma.plot.line(x=\"age\", hue=\"sex\")"
   ]
  },
  {
   "cell_type": "code",
   "execution_count": null,
   "metadata": {},
   "outputs": [],
   "source": [
    "_distr_mean, _distr_var, _distr_skew, _distr_kurt = xr.apply_ufunc(\n",
    "    lambda p: stats.rv_histogram((p, _p_g_bins), density=True).stats(moments=\"mvsk\"),\n",
    "    p_g,\n",
    "    input_core_dims=[[\"growth\"]],\n",
    "    output_core_dims=[(), (), (), ()],\n",
    "    vectorize=True,\n",
    ")\n",
    "xr.Dataset(dict(zip(\"mvsk\", (_distr_mean, _distr_var, _distr_skew, _distr_kurt))))"
   ]
  },
  {
   "cell_type": "code",
   "execution_count": null,
   "metadata": {},
   "outputs": [],
   "source": [
    "_distr_mean.plot.line(x=\"age\", hue=\"sex\")\n",
    "_distr_median.plot.line(x=\"age\", hue=\"sex\")"
   ]
  },
  {
   "cell_type": "code",
   "execution_count": null,
   "metadata": {},
   "outputs": [],
   "source": [
    "_distr_var.plot.line(x=\"age\", hue=\"sex\")"
   ]
  },
  {
   "cell_type": "code",
   "execution_count": null,
   "metadata": {},
   "outputs": [],
   "source": [
    "(np.sqrt(_distr_var) / _distr_median).plot.line(x=\"age\", hue=\"sex\")"
   ]
  },
  {
   "cell_type": "code",
   "execution_count": null,
   "metadata": {},
   "outputs": [],
   "source": [
    "(np.sqrt(_distr_var) / _distr_mean).plot.line(x=\"age\", hue=\"sex\")"
   ]
  },
  {
   "cell_type": "code",
   "execution_count": null,
   "metadata": {},
   "outputs": [],
   "source": [
    "# (np.sqrt(_distr_var) / _distr_median).plot.line(x=\"age\", hue=\"sex\")\n",
    "(np.sqrt(_distr_var) / _distr_mean).plot.line(x=\"age\", hue=\"sex\")\n",
    "_distr_qcv.plot.line(x=\"age\", hue=\"sex\")"
   ]
  },
  {
   "cell_type": "code",
   "execution_count": null,
   "metadata": {},
   "outputs": [],
   "source": [
    "approx_sigma.plot.line(x=\"age\", hue=\"sex\")\n",
    "(np.sqrt(_distr_var) / _distr_mean).plot.line(x=\"age\", hue=\"sex\")"
   ]
  },
  {
   "cell_type": "code",
   "execution_count": null,
   "metadata": {},
   "outputs": [],
   "source": [
    "_distr_skew.plot.line(x=\"age\", hue=\"sex\")"
   ]
  },
  {
   "cell_type": "code",
   "execution_count": null,
   "metadata": {},
   "outputs": [],
   "source": [
    "q1, q2, q3 = distr_qs.sel(quantile=0.25), distr_qs.sel(quantile=0.50), distr_qs.sel(quantile=0.75)\n",
    "qSkew = ((q3 - q2) - (q2 - q1)) / (q3 - q1)\n",
    "qSkew.plot.line(x=\"age\", hue=\"sex\")"
   ]
  },
  {
   "cell_type": "code",
   "execution_count": null,
   "metadata": {},
   "outputs": [],
   "source": [
    "np.sqrt(qSkew).plot.line(x=\"age\", hue=\"sex\")"
   ]
  },
  {
   "cell_type": "code",
   "execution_count": null,
   "metadata": {},
   "outputs": [],
   "source": [
    "(qSkew / _distr_skew).plot.line(x=\"age\", hue=\"sex\")"
   ]
  },
  {
   "cell_type": "code",
   "execution_count": null,
   "metadata": {},
   "outputs": [],
   "source": [
    "_distr_kurt.plot.line(x=\"age\", hue=\"sex\")"
   ]
  },
  {
   "cell_type": "code",
   "execution_count": null,
   "metadata": {},
   "outputs": [],
   "source": [
    "p_g.isel(age=0).plot.line(x=\"growth\", hue=\"sex\")"
   ]
  },
  {
   "cell_type": "code",
   "execution_count": null,
   "metadata": {},
   "outputs": [],
   "source": [
    "p_g.isel(age=57).plot.line(x=\"growth\", hue=\"sex\")"
   ]
  },
  {
   "cell_type": "code",
   "execution_count": null,
   "metadata": {},
   "outputs": [],
   "source": [
    "N_SAMPLE = 100\n",
    "_distr_sample = xr.apply_ufunc(\n",
    "    lambda p: stats.rv_histogram((p, _p_g_bins), density=True).rvs(size=N_SAMPLE),\n",
    "    p_g,\n",
    "    input_core_dims=[[\"growth\"]],\n",
    "    output_core_dims=[[\"sample\"]],\n",
    "    vectorize=True,\n",
    ")\n",
    "_distr_sample"
   ]
  },
  {
   "cell_type": "code",
   "execution_count": null,
   "metadata": {},
   "outputs": [],
   "source": [
    "fig, axs = plt.subplots(2, 2, layout=\"constrained\", figsize=(14, 12))\n",
    "_distr_sample.isel(sex=0).plot.scatter(x=\"age\", ax=axs[0, 0])\n",
    "_distr_sample.isel(sex=1).plot.scatter(x=\"age\", ax=axs[0, 1])\n",
    "\n",
    "_trans_distr_sample = (_distr_sample / _distr_median) **(-1.511e-01)\n",
    "_trans_distr_sample.isel(sex=0).plot.scatter(x=\"age\", ax=axs[1, 0])\n",
    "_trans_distr_sample.isel(sex=1).plot.scatter(x=\"age\", ax=axs[1, 1])"
   ]
  },
  {
   "cell_type": "code",
   "execution_count": null,
   "metadata": {},
   "outputs": [],
   "source": [
    "xr.Dataset({\n",
    "    \"median\": _trans_distr_sample.median(dim=\"sample\"),\n",
    "    \"std\": _trans_distr_sample.std(dim=\"sample\"),\n",
    "    \"skew\": _trans_distr_sample.reduce(stats.skew, dim=\"sample\"),\n",
    "})"
   ]
  },
  {
   "cell_type": "code",
   "execution_count": null,
   "metadata": {},
   "outputs": [],
   "source": [
    "import scipy.optimize as optimize"
   ]
  },
  {
   "cell_type": "code",
   "execution_count": null,
   "metadata": {},
   "outputs": [],
   "source": [
    "_sex = \"Male\"\n",
    "\n",
    "_m = _distr_median.sel(sex=_sex)\n",
    "_s = np.sqrt(_distr_var).sel(sex=_sex)\n",
    "# _cv = _s / _m\n",
    "_cv = approx_sigma.sel(sex=_sex)\n",
    "_truth = p_g.sel(sex=_sex)\n",
    "\n",
    "_norm_cost = (\n",
    "    0.5 * ((_truth - xr.apply_ufunc(stats.norm.pdf, p_g.growth, _m, _s)) ** 2).sum()\n",
    ")\n",
    "print(\"Normal Fit:\")\n",
    "print(\"        cost:\", _norm_cost.values)\n",
    "_bccg_fit = optimize.least_squares(\n",
    "    lambda x: (\n",
    "        (_truth - xr.apply_ufunc(BCCG.pdf, p_g.growth, _m, _cv, *x)) ** 2\n",
    "    ).values.flatten(),\n",
    "    x0=-0.3521,\n",
    ")\n",
    "print(\"BCCG Fit:\")\n",
    "print(_bccg_fit)\n",
    "_bcpe_fit = optimize.least_squares(\n",
    "    lambda x: (\n",
    "        (_truth - xr.apply_ufunc(BCPE.pdf, p_g.growth, _m, _cv, *x)) ** 2\n",
    "    ).values.flatten(),\n",
    "    x0=[-0.3, 1],\n",
    ")\n",
    "print(\"BCPE Fit:\")\n",
    "print(_bcpe_fit)"
   ]
  },
  {
   "cell_type": "code",
   "execution_count": null,
   "metadata": {},
   "outputs": [],
   "source": [
    "fig, axs = plt.subplots(2, 1, figsize=(12, 12))\n",
    "\n",
    "((_truth - xr.apply_ufunc(stats.norm.pdf, p_g.growth, _m, _s)) ** 2).sum(\n",
    "    dim=\"growth\"\n",
    ").plot.line(ax=axs[0], label=\"Norm cost\")\n",
    "ax.legend()\n",
    "((_truth - xr.apply_ufunc(BCCG.pdf, p_g.growth, _m, _cv, *_bccg_fit.x)) ** 2).sum(\n",
    "    dim=\"growth\"\n",
    ").plot.line(ax=axs[1], label=\"BCCG cost\")\n",
    "((_truth - xr.apply_ufunc(BCPE.pdf, p_g.growth, _m, _cv, *_bcpe_fit.x)) ** 2).sum(\n",
    "    dim=\"growth\"\n",
    ").plot.line(ax=axs[1], label=\"BCPE cost\")\n",
    "ax.legend()"
   ]
  },
  {
   "cell_type": "code",
   "execution_count": null,
   "metadata": {},
   "outputs": [],
   "source": [
    "fig, axs = plt.subplots(3, 1, figsize=(18, 12), sharex=True, layout=\"constrained\")\n",
    "_idx = 57\n",
    "\n",
    "ax = axs[0]\n",
    "_truth.isel(age=_idx).plot.line(ax=ax, x=\"growth\", label=\"truth\")\n",
    "xr.apply_ufunc(stats.norm.pdf, p_g.growth, _m, _s).isel(age=_idx).plot.line(\n",
    "    ax=ax, x=\"growth\", ls=\"--\", label=\"norm fit\"\n",
    ")\n",
    "ax.set_title(\"Normal Fit\")\n",
    "ax = axs[1]\n",
    "_truth.isel(age=_idx).plot.line(ax=ax, x=\"growth\", label=\"truth\")\n",
    "xr.apply_ufunc(BCCG.pdf, p_g.growth, _m, _cv, *_bccg_fit.x).isel(age=_idx).plot.line(\n",
    "    ax=ax, x=\"growth\", ls=\"--\", label=\"bccg fit\"\n",
    ")\n",
    "ax.set_title(\"BCCG Fit\")\n",
    "ax = axs[2]\n",
    "_truth.isel(age=_idx).plot.line(ax=ax, x=\"growth\", label=\"truth\")\n",
    "xr.apply_ufunc(BCPE.pdf, p_g.growth, _m, _cv, *_bcpe_fit.x).isel(age=_idx).plot.line(\n",
    "    ax=ax, x=\"growth\", ls=\"--\", label=\"bcpe fit\"\n",
    ")\n",
    "ax.set_title(\"BCPE Fit\")\n",
    "_q_lims = _distr_qs.sel(sex=_sex).isel(age=_idx)\n",
    "ax.set_xlim(_q_lims.isel(quantile=0), _q_lims.isel(quantile=-1))"
   ]
  },
  {
   "cell_type": "code",
   "execution_count": null,
   "metadata": {},
   "outputs": [],
   "source": [
    "_sex = \"Male\"\n",
    "\n",
    "_m = _distr_median.sel(sex=_sex)\n",
    "_s = np.sqrt(_distr_var).sel(sex=_sex)\n",
    "# _cv = _s / _m\n",
    "_cv = approx_sigma.sel(sex=_sex)\n",
    "_truth = np.log(p_g.sel(sex=_sex))\n",
    "\n",
    "_norm_cost = (\n",
    "    0.5 * ((_truth - xr.apply_ufunc(stats.norm.logpdf, p_g.growth, _m, _s)) ** 2).sum()\n",
    ")\n",
    "print(\"Normal Fit:\")\n",
    "print(\"        cost:\", _norm_cost.values)\n",
    "_bccg_fit = optimize.least_squares(\n",
    "    lambda x: (\n",
    "        (_truth - xr.apply_ufunc(BCCG.logpdf, p_g.growth, _m, _cv, *x)) ** 2\n",
    "    ).values.flatten(),\n",
    "    x0=-0.3,\n",
    ")\n",
    "print(\"BCCG Fit:\")\n",
    "print(_bccg_fit)\n",
    "_bcpe_fit = optimize.least_squares(\n",
    "    lambda x: (\n",
    "        (_truth - xr.apply_ufunc(BCPE.logpdf, p_g.growth, _m, _cv, *x)) ** 2\n",
    "    ).values.flatten(),\n",
    "    x0=[-0.3, 1],\n",
    ")\n",
    "print(\"BCPE Fit:\")\n",
    "print(_bcpe_fit)\n",
    "\n",
    "_truth = p_g.sel(sex=_sex)"
   ]
  },
  {
   "cell_type": "code",
   "execution_count": null,
   "metadata": {},
   "outputs": [],
   "source": [
    "fig, axs = plt.subplots(2, 1, figsize=(12, 12))\n",
    "\n",
    "((_truth - xr.apply_ufunc(stats.norm.pdf, p_g.growth, _m, _s)) ** 2).sum(\n",
    "    dim=\"growth\"\n",
    ").plot.line(ax=axs[0], label=\"Norm cost\")\n",
    "ax.legend()\n",
    "((_truth - xr.apply_ufunc(BCCG.pdf, p_g.growth, _m, _cv, *_bccg_fit.x)) ** 2).sum(\n",
    "    dim=\"growth\"\n",
    ").plot.line(ax=axs[1], label=\"BCCG cost\")\n",
    "((_truth - xr.apply_ufunc(BCPE.pdf, p_g.growth, _m, _cv, *_bcpe_fit.x)) ** 2).sum(\n",
    "    dim=\"growth\"\n",
    ").plot.line(ax=axs[1], label=\"BCPE cost\")\n",
    "ax.legend()"
   ]
  },
  {
   "cell_type": "code",
   "execution_count": null,
   "metadata": {},
   "outputs": [],
   "source": [
    "fig, axs = plt.subplots(3, 1, figsize=(18, 12), sharex=True, layout=\"constrained\")\n",
    "_idx = 100\n",
    "\n",
    "ax = axs[0]\n",
    "_truth.isel(age=_idx).plot.line(ax=ax, x=\"growth\", label=\"truth\")\n",
    "xr.apply_ufunc(stats.norm.pdf, p_g.growth, _m, _s).isel(age=_idx).plot.line(\n",
    "    ax=ax, x=\"growth\", ls=\"--\", label=\"norm fit\"\n",
    ")\n",
    "ax.set_title(\"Normal Fit\")\n",
    "ax = axs[1]\n",
    "_truth.isel(age=_idx).plot.line(ax=ax, x=\"growth\", label=\"truth\")\n",
    "xr.apply_ufunc(BCCG.pdf, p_g.growth, _m, _cv, *_bccg_fit.x).isel(age=_idx).plot.line(\n",
    "    ax=ax, x=\"growth\", ls=\"--\", label=\"bccg fit\"\n",
    ")\n",
    "ax.set_title(\"BCCG Fit\")\n",
    "ax = axs[2]\n",
    "_truth.isel(age=_idx).plot.line(ax=ax, x=\"growth\", label=\"truth\")\n",
    "xr.apply_ufunc(BCPE.pdf, p_g.growth, _m, _cv, *_bcpe_fit.x).isel(age=_idx).plot.line(\n",
    "    ax=ax, x=\"growth\", ls=\"--\", label=\"bcpe fit\"\n",
    ")\n",
    "ax.set_title(\"BCPE Fit\")\n",
    "_q_lims = _distr_qs.sel(sex=_sex).isel(age=_idx)\n",
    "ax.set_xlim(_q_lims.isel(quantile=0), _q_lims.isel(quantile=-1))"
   ]
  },
  {
   "cell_type": "code",
   "execution_count": null,
   "metadata": {},
   "outputs": [],
   "source": []
  },
  {
   "cell_type": "code",
   "execution_count": null,
   "metadata": {},
   "outputs": [],
   "source": []
  }
 ],
 "metadata": {
  "kernelspec": {
   "display_name": "Python 3",
   "language": "python",
   "name": "python3"
  },
  "language_info": {
   "codemirror_mode": {
    "name": "ipython",
    "version": 3
   },
   "file_extension": ".py",
   "mimetype": "text/x-python",
   "name": "python",
   "nbconvert_exporter": "python",
   "pygments_lexer": "ipython3",
   "version": "3.11.3"
  },
  "orig_nbformat": 4
 },
 "nbformat": 4,
 "nbformat_minor": 2
}
